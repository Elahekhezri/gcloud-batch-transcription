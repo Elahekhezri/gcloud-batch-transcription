{
  "nbformat": 4,
  "nbformat_minor": 0,
  "metadata": {
    "colab": {
      "provenance": [],
      "toc_visible": true,
      "authorship_tag": "ABX9TyMnxmR4qVuMwjBrJvCj/cOQ",
      "include_colab_link": true
    },
    "kernelspec": {
      "name": "python3",
      "display_name": "Python 3"
    },
    "language_info": {
      "name": "python"
    }
  },
  "cells": [
    {
      "cell_type": "markdown",
      "metadata": {
        "id": "view-in-github",
        "colab_type": "text"
      },
      "source": [
        "<a href=\"https://colab.research.google.com/github/Elahekhezri/gcloud-batch-transcription/blob/main/batch_transcription_gcloud_speech_to_text.ipynb\" target=\"_parent\"><img src=\"https://colab.research.google.com/assets/colab-badge.svg\" alt=\"Open In Colab\"/></a>"
      ]
    },
    {
      "cell_type": "markdown",
      "source": [
        "# Overview\n",
        "\n",
        "This script transcribes batches of audio files using Google Cloud's Speech-to-Text API. It then automatically structures the data into a pandas DataFrame with filenames and corresponding transcriptions.\n",
        "\n",
        "☀️ Recommended for qualitative researchers transcribing audio interviews or survey voice notes.\n",
        "\n",
        "☀️ Recommended for audio files in languages not widely supported by online batch transcription tools (e.g., Persian).\n",
        "\n",
        "💡 For the final dataframe to be analysis-ready:\n",
        "- Name audio files after participant IDs.\n",
        "\n",
        "- Name folders after research variables or conditions.\n",
        "\n",
        "\n",
        "# Setup\n",
        "\n",
        "## 🏗️ Environment:\n",
        "- [Google Colab](https://colab.research.google.com/) (Recommended, minimal setup).\n",
        "- If running locally, authentication setup may differ.\n",
        "\n",
        "## 🗃️ Storage\n",
        "- Google Cloud Storage Bucket (easy integration with Google Cloud Speech-to-Text)\n",
        "- ⚠️ Tweak the code to pull audio from other sources if you're not using storage bucket.\n",
        "\n",
        "## Prep\n",
        "\n",
        "1. Go to [Google Cloud Console](https://console.cloud.google.com/).\n",
        "2. Create a new project or select an existing one.\n",
        "3. Enable [Cloud Speech-to-Text API](https://console.cloud.google.com/apis/library/speech.googleapis.com?) for the project.\n",
        "4. (optional) Enable [Cloud Storage API](https://console.cloud.google.com/apis/library/storage-component.googleapis.com?) for the project -> Go to [Cloud Storage Buckets](https://console.cloud.google.com/storage/) -> create a bucket -> upload the folder containing the audio files.\n",
        "5. (optional) Depending on your authentication method, you may need to [create a service account](https://cloud.google.com/iam/docs/service-accounts-create)."
      ],
      "metadata": {
        "id": "0zKskXAt_fO_"
      }
    },
    {
      "cell_type": "markdown",
      "source": [
        "# ⚠️ Warning\n",
        "As of Summer 2024, this script ran at no cost. However, Google Cloud pricing may change, so check the latest terms before use.\n"
      ],
      "metadata": {
        "id": "tMBAcgKVnEKZ"
      }
    },
    {
      "cell_type": "markdown",
      "source": [
        "# Code"
      ],
      "metadata": {
        "id": "X8wvJCcN3ihn"
      }
    },
    {
      "cell_type": "code",
      "source": [
        "!pip install google-cloud-speech google.cloud google.api google-cloud-storage"
      ],
      "metadata": {
        "id": "HXZh-CJV6yj9"
      },
      "execution_count": null,
      "outputs": []
    },
    {
      "cell_type": "code",
      "source": [
        "#@title Libraries\n",
        "from google.api_core.client_options import ClientOptions\n",
        "from google.cloud import speech, storage\n",
        "from google.cloud.speech_v2 import SpeechClient, types as cloud_speech\n",
        "from google.colab import auth, data_table\n",
        "from google.oauth2 import service_account\n",
        "import pandas as pd\n",
        "from IPython.display import display\n",
        "import os"
      ],
      "metadata": {
        "id": "JOazYEKFnFke"
      },
      "execution_count": null,
      "outputs": []
    },
    {
      "cell_type": "code",
      "source": [
        "#@title Authentication\n",
        "\n",
        "PROJECT_ID = \"your-project-id\"  # @param {type:\"string\"}\n",
        "LOCATION = 'europe-west4'  # You can modify this based on your recognizer's location\n",
        "recognizer_path = f\"projects/{PROJECT_ID}/locations/{LOCATION}/recognizers/_\"\n",
        "\n",
        "## option 1: quick authentication in google colab\n",
        "\n",
        "auth.authenticate_user(project_id=PROJECT_ID)\n",
        "\n",
        "## option 2: authentication using a service account (recommended)\n",
        "\n",
        "credentials_file = \"path-to-credentials.json\" # @param {type:\"string\"}\n",
        "\n",
        "credentials = service_account.Credentials.from_service_account_file(credentials_file)\n",
        "\n",
        "# Initialize the Google Cloud Speech client\n",
        "speech_client = speech.SpeechClient(credentials=credentials)\n",
        "\n",
        "# Initialize the Google Cloud Storage client\n",
        "storage_client = storage.Client(credentials=credentials)\n",
        "\n",
        "bucket_name = \"your-bucket-name\" # @param {type:\"string\"}\n",
        "bucket = storage_client.bucket(bucket_name)"
      ],
      "metadata": {
        "id": "qX9lalsuoEJu"
      },
      "execution_count": null,
      "outputs": []
    },
    {
      "cell_type": "code",
      "source": [
        "#@title Batch Transcription\n",
        "\n",
        "# define batch recognize function\n",
        "\n",
        "MAX_AUDIO_LENGTH_SECS = 8 * 60 * 60\n",
        "\n",
        "def run_batch_recognize(client, credentials, gcs_uri: str) -> str:\n",
        "  # Instantiate a client.\n",
        "  client = SpeechClient(credentials = credentials,\n",
        "      client_options=ClientOptions(\n",
        "          api_endpoint=\"europe-west4-speech.googleapis.com\", # change accordingly\n",
        "      ),\n",
        "  )\n",
        "\n",
        "  audio = speech.RecognitionAudio(uri=gcs_uri)\n",
        "\n",
        "  config = cloud_speech.RecognitionConfig(\n",
        "      auto_decoding_config={},\n",
        "      features=cloud_speech.RecognitionFeatures(enable_automatic_punctuation=True,\n",
        "          enable_word_time_offsets=True,\n",
        "          enable_spoken_punctuation=True,\n",
        "          use_enhanced=True,\n",
        "        ),\n",
        "      model=\"chirp\", # change accordingly\n",
        "      language_codes=[\"fa-IR\"], # change accordingly\n",
        "  )\n",
        "\n",
        "  files = [cloud_speech.BatchRecognizeFileMetadata(uri=gcs_uri)]\n",
        "\n",
        "  request = cloud_speech.BatchRecognizeRequest(\n",
        "      recognizer=recognizer_path,\n",
        "      config=config,\n",
        "      files=files,\n",
        "      recognition_output_config=cloud_speech.RecognitionOutputConfig(\n",
        "            inline_response_config=cloud_speech.InlineOutputConfig(),\n",
        "            ),\n",
        "  )\n",
        "  operation = client.batch_recognize(request=request)\n",
        "\n",
        "  print(\"Operation in progress...\")\n",
        "  response = operation.result(timeout=3 * MAX_AUDIO_LENGTH_SECS)\n",
        "\n",
        "  transcripts = [result.alternatives[0].transcript for result in response.results[gcs_uri].transcript.results]\n",
        "  return \" \".join(transcripts)\n",
        "\n",
        "# fetch all audio files from your Cloud Storage bucket within the specified folder prefix.\n",
        "\n",
        "gcs_uris = []\n",
        "file_names = []\n",
        "\n",
        "folder_prefix = \"/your-audio-folder\" # @param {type:\"string\"}\n",
        "blobs = bucket.list_blobs(prefix=folder_prefix)\n",
        "\n",
        "for blob in blobs:\n",
        "    if blob.name.endswith('.mp3'): #change accordingly (e.g., .wav)\n",
        "        gcs_uri = f\"gs://{bucket_name}/{blob.name}\"\n",
        "        gcs_uris.append(gcs_uri)\n",
        "        file_names.append(blob.name.split('/')[-1])\n",
        "\n",
        "print(gcs_uris)\n",
        "print(file_names)\n",
        "\n",
        "# Loop through audio files, transcribe each, and store results as (filename, transcript) tuples\n",
        "transcriptions = []\n",
        "\n",
        "for gcs_uri, file_name in zip(gcs_uris, file_names):\n",
        "    print(f\"Transcribing {gcs_uri}...\")\n",
        "    try:\n",
        "        transcript = run_batch_recognize(speech_client, credentials, gcs_uri)\n",
        "        transcriptions.append((file_name, transcript))\n",
        "    except Exception as e:\n",
        "        print(f\"Failed to transcribe {gcs_uri}: {e}\")\n",
        "        transcriptions.append((file_name, \"\"))\n",
        "\n",
        "# Create a DataFrame from collected tuples\n",
        "import pandas as pd\n",
        "df = pd.DataFrame(transcriptions, columns=[\"File Name\", \"Transcription\"])\n",
        "display(df)"
      ],
      "metadata": {
        "id": "tokv0L_BrQFh"
      },
      "execution_count": null,
      "outputs": []
    }
  ]
}